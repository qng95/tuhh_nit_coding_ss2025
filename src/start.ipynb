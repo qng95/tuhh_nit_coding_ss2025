{
 "cells": [
  {
   "cell_type": "code",
   "execution_count": null,
   "id": "9e866af3",
   "metadata": {},
   "outputs": [],
   "source": []
  },
  {
   "cell_type": "code",
   "execution_count": 1,
   "id": "8670b872",
   "metadata": {},
   "outputs": [
    {
     "name": "stdout",
     "output_type": "stream",
     "text": [
      "3.0\n"
     ]
    }
   ],
   "source": [
    "import math\n",
    "\n",
    "a=5\n",
    "b=0.555\n",
    "b=\"aaaa\"\n",
    "a=a**6151\n",
    "\n",
    "b = math.sqrt(9)\n",
    "print(b)"
   ]
  },
  {
   "cell_type": "code",
   "execution_count": 2,
   "id": "a1e68be8",
   "metadata": {},
   "outputs": [
    {
     "name": "stdout",
     "output_type": "stream",
     "text": [
      "\n"
     ]
    }
   ],
   "source": [
    "user_input = input(\"Hey enter anything ? Even emoji (🍓): \")\n",
    "print(user_input)"
   ]
  },
  {
   "cell_type": "code",
   "execution_count": 3,
   "id": "a3e7752c",
   "metadata": {},
   "outputs": [
    {
     "name": "stdout",
     "output_type": "stream",
     "text": [
      "2.566666\n"
     ]
    }
   ],
   "source": [
    "print(2.566_666)"
   ]
  },
  {
   "cell_type": "code",
   "execution_count": 4,
   "id": "e305ac49",
   "metadata": {},
   "outputs": [
    {
     "name": "stdout",
     "output_type": "stream",
     "text": [
      "🧍‍♂️ Hey!\n",
      "👮👮👮👮👮👮👮👮\n"
     ]
    }
   ],
   "source": [
    "age = 16\n",
    "\n",
    "if age > 26:\n",
    "    print(\"Sorry no more Leo Dicarprio 🙅‍♂️!\")\n",
    "else:\n",
    "    print(\"🧍‍♂️ Hey!\")\n",
    "\n",
    "\n",
    "match age:\n",
    "    case x if x > 26:\n",
    "        print(\"Sorry no more Leo Dicarprio 🙅‍♂️!\") \n",
    "    case x if x <= 26 and x >= 18:\n",
    "        print(\"🧍‍♂️ Hey!\")\n",
    "    case x if x < 18:\n",
    "        print(\"👮👮👮👮👮👮👮👮\")\n"
   ]
  },
  {
   "cell_type": "code",
   "execution_count": 1,
   "id": "80fbebca",
   "metadata": {},
   "outputs": [
    {
     "name": "stdout",
     "output_type": "stream",
     "text": [
      "Sum of 167252 and 17262 is 184514\n",
      "Playing digit 1 at frequency 233.08 Hz\n",
      "Playing digit 8 at frequency 349.23 Hz\n",
      "Playing digit 4 at frequency 277.18 Hz\n",
      "Playing digit 5 at frequency 293.66 Hz\n",
      "Playing digit 1 at frequency 233.08 Hz\n",
      "Playing digit 4 at frequency 277.18 Hz\n",
      "167252 € 17262 = None\n"
     ]
    },
    {
     "ename": "ValueError",
     "evalue": "No valid number words found! Please enter a valid number word (eg. two million twenty three thousand and forty nine)",
     "output_type": "error",
     "traceback": [
      "\u001b[31m---------------------------------------------------------------------------\u001b[39m",
      "\u001b[31mValueError\u001b[39m                                Traceback (most recent call last)",
      "\u001b[36mCell\u001b[39m\u001b[36m \u001b[39m\u001b[32mIn[1]\u001b[39m\u001b[32m, line 66\u001b[39m, in \u001b[36mcal\u001b[39m\u001b[34m(a, b, ops)\u001b[39m\n\u001b[32m     65\u001b[39m \u001b[38;5;28;01mtry\u001b[39;00m:\n\u001b[32m---> \u001b[39m\u001b[32m66\u001b[39m     a = \u001b[38;5;28;43mint\u001b[39;49m\u001b[43m(\u001b[49m\u001b[43ma\u001b[49m\u001b[43m)\u001b[49m\n\u001b[32m     67\u001b[39m \u001b[38;5;28;01mexcept\u001b[39;00m \u001b[38;5;167;01mValueError\u001b[39;00m:\n",
      "\u001b[31mValueError\u001b[39m: invalid literal for int() with base 10: ''",
      "\nDuring handling of the above exception, another exception occurred:\n",
      "\u001b[31mValueError\u001b[39m                                Traceback (most recent call last)",
      "\u001b[36mCell\u001b[39m\u001b[36m \u001b[39m\u001b[32mIn[1]\u001b[39m\u001b[32m, line 69\u001b[39m, in \u001b[36mcal\u001b[39m\u001b[34m(a, b, ops)\u001b[39m\n\u001b[32m     68\u001b[39m \u001b[38;5;28;01mtry\u001b[39;00m:\n\u001b[32m---> \u001b[39m\u001b[32m69\u001b[39m     a = \u001b[38;5;28;43mfloat\u001b[39;49m\u001b[43m(\u001b[49m\u001b[43ma\u001b[49m\u001b[43m)\u001b[49m\n\u001b[32m     70\u001b[39m \u001b[38;5;28;01mexcept\u001b[39;00m \u001b[38;5;167;01mValueError\u001b[39;00m:\n",
      "\u001b[31mValueError\u001b[39m: could not convert string to float: ''",
      "\nDuring handling of the above exception, another exception occurred:\n",
      "\u001b[31mValueError\u001b[39m                                Traceback (most recent call last)",
      "\u001b[36mCell\u001b[39m\u001b[36m \u001b[39m\u001b[32mIn[1]\u001b[39m\u001b[32m, line 88\u001b[39m\n\u001b[32m     86\u001b[39m b = \u001b[38;5;28minput\u001b[39m(\u001b[33m\"\u001b[39m\u001b[33mEnter b: \u001b[39m\u001b[33m\"\u001b[39m).strip()\n\u001b[32m     87\u001b[39m ops = \u001b[38;5;28minput\u001b[39m(\u001b[33m\"\u001b[39m\u001b[33mEnter operator: \u001b[39m\u001b[33m\"\u001b[39m).strip()\n\u001b[32m---> \u001b[39m\u001b[32m88\u001b[39m result = \u001b[43mcal\u001b[49m\u001b[43m(\u001b[49m\u001b[43ma\u001b[49m\u001b[43m,\u001b[49m\u001b[43m \u001b[49m\u001b[43mb\u001b[49m\u001b[43m,\u001b[49m\u001b[43m \u001b[49m\u001b[43mops\u001b[49m\u001b[43m)\u001b[49m\n\u001b[32m     89\u001b[39m \u001b[38;5;28mprint\u001b[39m(\u001b[33mf\u001b[39m\u001b[33m\"\u001b[39m\u001b[38;5;132;01m{\u001b[39;00ma\u001b[38;5;132;01m}\u001b[39;00m\u001b[33m \u001b[39m\u001b[38;5;132;01m{\u001b[39;00mops\u001b[38;5;132;01m}\u001b[39;00m\u001b[33m \u001b[39m\u001b[38;5;132;01m{\u001b[39;00mb\u001b[38;5;132;01m}\u001b[39;00m\u001b[33m = \u001b[39m\u001b[38;5;132;01m{\u001b[39;00mresult\u001b[38;5;132;01m}\u001b[39;00m\u001b[33m\"\u001b[39m)\n",
      "\u001b[36mCell\u001b[39m\u001b[36m \u001b[39m\u001b[32mIn[1]\u001b[39m\u001b[32m, line 71\u001b[39m, in \u001b[36mcal\u001b[39m\u001b[34m(a, b, ops)\u001b[39m\n\u001b[32m     69\u001b[39m         a = \u001b[38;5;28mfloat\u001b[39m(a)\n\u001b[32m     70\u001b[39m     \u001b[38;5;28;01mexcept\u001b[39;00m \u001b[38;5;167;01mValueError\u001b[39;00m:\n\u001b[32m---> \u001b[39m\u001b[32m71\u001b[39m         a = \u001b[43mw2n\u001b[49m\u001b[43m.\u001b[49m\u001b[43mword_to_num\u001b[49m\u001b[43m(\u001b[49m\u001b[43ma\u001b[49m\u001b[43m)\u001b[49m\n\u001b[32m     73\u001b[39m \u001b[38;5;28;01mtry\u001b[39;00m:\n\u001b[32m     74\u001b[39m     b = \u001b[38;5;28mint\u001b[39m(b)\n",
      "\u001b[36mFile \u001b[39m\u001b[32m~/TUHH/Coding/.venv/lib/python3.12/site-packages/word2number/w2n.py:154\u001b[39m, in \u001b[36mword_to_num\u001b[39m\u001b[34m(number_sentence)\u001b[39m\n\u001b[32m    152\u001b[39m \u001b[38;5;66;03m# Error message if the user enters invalid input!\u001b[39;00m\n\u001b[32m    153\u001b[39m \u001b[38;5;28;01mif\u001b[39;00m \u001b[38;5;28mlen\u001b[39m(clean_numbers) == \u001b[32m0\u001b[39m:\n\u001b[32m--> \u001b[39m\u001b[32m154\u001b[39m     \u001b[38;5;28;01mraise\u001b[39;00m \u001b[38;5;167;01mValueError\u001b[39;00m(\u001b[33m\"\u001b[39m\u001b[33mNo valid number words found! Please enter a valid number word (eg. two million twenty three thousand and forty nine)\u001b[39m\u001b[33m\"\u001b[39m) \n\u001b[32m    156\u001b[39m \u001b[38;5;66;03m# Error if user enters million,billion, thousand or decimal point twice\u001b[39;00m\n\u001b[32m    157\u001b[39m \u001b[38;5;28;01mif\u001b[39;00m clean_numbers.count(\u001b[33m'\u001b[39m\u001b[33mthousand\u001b[39m\u001b[33m'\u001b[39m) > \u001b[32m1\u001b[39m \u001b[38;5;129;01mor\u001b[39;00m clean_numbers.count(\u001b[33m'\u001b[39m\u001b[33mmillion\u001b[39m\u001b[33m'\u001b[39m) > \u001b[32m1\u001b[39m \u001b[38;5;129;01mor\u001b[39;00m clean_numbers.count(\u001b[33m'\u001b[39m\u001b[33mbillion\u001b[39m\u001b[33m'\u001b[39m) > \u001b[32m1\u001b[39m \u001b[38;5;129;01mor\u001b[39;00m clean_numbers.count(\u001b[33m'\u001b[39m\u001b[33mpoint\u001b[39m\u001b[33m'\u001b[39m)> \u001b[32m1\u001b[39m:\n",
      "\u001b[31mValueError\u001b[39m: No valid number words found! Please enter a valid number word (eg. two million twenty three thousand and forty nine)"
     ]
    }
   ],
   "source": [
    "import operator\n",
    "from word2number import w2n\n",
    "import numpy as np\n",
    "import simpleaudio as sa\n",
    "import sounddevice as sd\n",
    "import time\n",
    "\n",
    "def play_note(frequency, duration=0.3, sample_rate=44100):\n",
    "    \"\"\"Play a sine wave at a given frequency using sounddevice.\"\"\"\n",
    "    t = np.linspace(0, duration, int(sample_rate * duration), False)\n",
    "    tone = np.sin(frequency * t * 2 * np.pi)\n",
    "    \n",
    "    # Normalize tone between -1.0 and 1.0\n",
    "    tone = tone / np.max(np.abs(tone))\n",
    "    \n",
    "    sd.play(tone, samplerate=sample_rate)\n",
    "    sd.wait()  # Wait until the sound is done playing\n",
    "\n",
    "def digit_to_frequency(digit):\n",
    "    \"\"\"Map a digit (0-9) to a musical frequency.\"\"\"\n",
    "    base_freq = 220  # A3\n",
    "    return base_freq * (2 ** (digit / 12))  # Each digit is a semitone apart\n",
    "\n",
    "def be_creative(a, b):\n",
    "    total = a + b\n",
    "    print(f\"Sum of {a} and {b} is {total}\")\n",
    "    for digit in str(total):\n",
    "        freq = digit_to_frequency(int(digit))\n",
    "        print(f\"Playing digit {digit} at frequency {freq:.2f} Hz\")\n",
    "        play_note(freq)\n",
    "    \n",
    "\n",
    "def string_to_operator(op_str):\n",
    "  \"\"\"Converts a string to its corresponding operator.\n",
    "\n",
    "  Args:\n",
    "    op_str: The string representation of the operator \n",
    "           (e.g., \"+\", \"-\", \"*\", \"/\", \">\", \"<\", \"==\").\n",
    "\n",
    "  Returns:\n",
    "    The operator function if found, otherwise None.\n",
    "  \"\"\"\n",
    "  ops = {\n",
    "      '+': operator.add,\n",
    "      '-': operator.sub,\n",
    "      '*': operator.mul,\n",
    "      '/': operator.truediv,\n",
    "      '//': operator.floordiv,\n",
    "      '%': operator.mod,\n",
    "      '**': operator.pow,\n",
    "      '>': operator.gt,\n",
    "      '<': operator.lt,\n",
    "      '>=': operator.ge,\n",
    "      '<=': operator.le,\n",
    "      '==': operator.eq,\n",
    "      '!=': operator.ne,\n",
    "      'and': operator.and_,\n",
    "      'or': operator.or_,\n",
    "      'not': operator.not_,\n",
    "      '€': be_creative\n",
    "  }\n",
    "  return ops.get(op_str)\n",
    "\n",
    "def cal(a, b, ops):\n",
    "    try:\n",
    "        a = int(a)\n",
    "    except ValueError:\n",
    "        try:\n",
    "            a = float(a)\n",
    "        except ValueError:\n",
    "            a = w2n.word_to_num(a)\n",
    "            \n",
    "    try:\n",
    "        b = int(b)\n",
    "    except ValueError:\n",
    "        try:\n",
    "            b = float(b)\n",
    "        except ValueError:\n",
    "            b = w2n.word_to_num(b)\n",
    "\n",
    "    return string_to_operator(ops)(a, b)\n",
    "\n",
    "result = 0.0\n",
    "while True:\n",
    "    a = input(\"Enter a: \").strip()\n",
    "    b = input(\"Enter b: \").strip()\n",
    "    ops = input(\"Enter operator: \").strip()\n",
    "    result = cal(a, b, ops)\n",
    "    print(f\"{a} {ops} {b} = {result}\")\n",
    "\n",
    "\n"
   ]
  },
  {
   "cell_type": "code",
   "execution_count": 6,
   "id": "e25c6289",
   "metadata": {},
   "outputs": [
    {
     "name": "stdout",
     "output_type": "stream",
     "text": [
      "1 * 1 = 1\n",
      "1 * 2 = 2\n",
      "1 * 3 = 3\n",
      "1 * 4 = 4\n",
      "1 * 5 = 5\n",
      "1 * 6 = 6\n",
      "1 * 7 = 7\n",
      "1 * 8 = 8\n",
      "1 * 9 = 9\n",
      "###############\n",
      "2 * 1 = 2\n",
      "2 * 2 = 4\n",
      "2 * 3 = 6\n",
      "2 * 4 = 8\n",
      "2 * 5 = 10\n",
      "2 * 6 = 12\n",
      "2 * 7 = 14\n",
      "2 * 8 = 16\n",
      "2 * 9 = 18\n",
      "###############\n",
      "3 * 1 = 3\n",
      "3 * 2 = 6\n",
      "3 * 3 = 9\n",
      "3 * 4 = 12\n",
      "3 * 5 = 15\n",
      "3 * 6 = 18\n",
      "3 * 7 = 21\n",
      "3 * 8 = 24\n",
      "3 * 9 = 27\n",
      "###############\n",
      "4 * 1 = 4\n",
      "4 * 2 = 8\n",
      "4 * 3 = 12\n",
      "4 * 4 = 16\n",
      "4 * 5 = 20\n",
      "4 * 6 = 24\n",
      "4 * 7 = 28\n",
      "4 * 8 = 32\n",
      "4 * 9 = 36\n",
      "###############\n",
      "5 * 1 = 5\n",
      "5 * 2 = 10\n",
      "5 * 3 = 15\n",
      "5 * 4 = 20\n",
      "5 * 5 = 25\n",
      "5 * 6 = 30\n",
      "5 * 7 = 35\n",
      "5 * 8 = 40\n",
      "5 * 9 = 45\n",
      "###############\n",
      "6 * 1 = 6\n",
      "6 * 2 = 12\n",
      "6 * 3 = 18\n",
      "6 * 4 = 24\n",
      "6 * 5 = 30\n",
      "6 * 6 = 36\n",
      "6 * 7 = 42\n",
      "6 * 8 = 48\n",
      "6 * 9 = 54\n",
      "###############\n",
      "7 * 1 = 7\n",
      "7 * 2 = 14\n",
      "7 * 3 = 21\n",
      "7 * 4 = 28\n",
      "7 * 5 = 35\n",
      "7 * 6 = 42\n",
      "7 * 7 = 49\n",
      "7 * 8 = 56\n",
      "7 * 9 = 63\n",
      "###############\n",
      "8 * 1 = 8\n",
      "8 * 2 = 16\n",
      "8 * 3 = 24\n",
      "8 * 4 = 32\n",
      "8 * 5 = 40\n",
      "8 * 6 = 48\n",
      "8 * 7 = 56\n",
      "8 * 8 = 64\n",
      "8 * 9 = 72\n",
      "###############\n",
      "9 * 1 = 9\n",
      "9 * 2 = 18\n",
      "9 * 3 = 27\n",
      "9 * 4 = 36\n",
      "9 * 5 = 45\n",
      "9 * 6 = 54\n",
      "9 * 7 = 63\n",
      "9 * 8 = 72\n",
      "9 * 9 = 81\n",
      "###############\n"
     ]
    }
   ],
   "source": [
    "a = 1\n",
    "b = 1\n",
    "while a <= 9:\n",
    "    print(f\"{a} * {b} = {a*b}\")\n",
    "    if b == 9:\n",
    "        a = a + 1\n",
    "        b = 1\n",
    "        print(\"###############\")\n",
    "    else:\n",
    "        b = b + 1"
   ]
  }
 ],
 "metadata": {
  "kernelspec": {
   "display_name": ".venv",
   "language": "python",
   "name": "python3"
  },
  "language_info": {
   "codemirror_mode": {
    "name": "ipython",
    "version": 3
   },
   "file_extension": ".py",
   "mimetype": "text/x-python",
   "name": "python",
   "nbconvert_exporter": "python",
   "pygments_lexer": "ipython3",
   "version": "3.12.10"
  }
 },
 "nbformat": 4,
 "nbformat_minor": 5
}
