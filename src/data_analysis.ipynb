{
 "cells": [
  {
   "cell_type": "code",
   "execution_count": 45,
   "id": "e2784163",
   "metadata": {},
   "outputs": [
    {
     "name": "stdout",
     "output_type": "stream",
     "text": [
      "1    30\n",
      "Name: Age, dtype: int64\n",
      "####################\n",
      "30\n",
      "####################\n",
      "30\n",
      "####################\n",
      "30\n",
      "####################\n",
      "   Age\n",
      "1   30\n",
      "####################\n",
      "      Name  Age         City\n",
      "1      Bob   30  Los Angeles\n",
      "2  Charlie   35      Chicago\n",
      "####################\n",
      "1        Bob\n",
      "2    Charlie\n",
      "Name: Name, dtype: object\n",
      "####################\n",
      "0      Alice\n",
      "2    Charlie\n",
      "Name: Name, dtype: object\n",
      "####################\n",
      "   Age         City\n",
      "1   30  Los Angeles\n",
      "2   35      Chicago\n",
      "####################\n",
      "   Age         City\n",
      "1   30  Los Angeles\n",
      "2   35      Chicago\n",
      "####################\n"
     ]
    }
   ],
   "source": [
    "import pandas as pd\n",
    "\n",
    "\n",
    "dpeople = {\n",
    "    \"Name\": [\"Alice\", \"Bob\", \"Charlie\"],\n",
    "    \"Age\": [25, 30, 35],\n",
    "    \"City\": [\"New York\", \"Los Angeles\", \"Chicago\"]\n",
    "}\n",
    "\n",
    "df_people = pd.DataFrame(dpeople)\n",
    "\n",
    "\n",
    "lpeople = [\n",
    "    [\"Allice\", 25, 30000.0],\n",
    "    [\"Bob\", 30, 40000.0],\n",
    "    [\"Charlie\", 35, 50000.0]\n",
    "]\n",
    "\n",
    "df_people2 = pd.DataFrame(lpeople, columns=[\"Name\", \"Age\", \"Salary\"])\n",
    "\n",
    "\n",
    "# select row where Name is \"Bob\" and column 1 of that row\n",
    "print(df_people[df_people[\"Name\"] == \"Bob\"][\"Age\"])\n",
    "print(\"#\" * 20)\n",
    "\n",
    "# select row 1 and column 1\n",
    "print(df_people.iloc[1, 1])\n",
    "print(\"#\" * 20)\n",
    "\n",
    "# select single cell by iat\n",
    "print(df_people.iat[1, 1])\n",
    "print(\"#\" * 20)\n",
    "\n",
    "# select single cell by lable at\n",
    "print(df_people.at[1, \"Age\"])\n",
    "print(\"#\" * 20)\n",
    "\n",
    "# select row where name is \"Bob\" using iloc\n",
    "print(df_people.loc[df_people[\"Name\"] == \"Bob\", [\"Age\"]])\n",
    "print(\"#\" * 20)\n",
    "\n",
    "# select row where age >= 30\n",
    "print(df_people[df_people[\"Age\"] >= 30])\n",
    "print(\"#\" * 20)\n",
    "\n",
    "# select row where age >= 30 and column \"Name\"\n",
    "print(df_people[df_people[\"Age\"] >= 30][\"Name\"])\n",
    "print(\"#\" * 20)\n",
    "\n",
    "# select row where name end with \"e\" and column \"Name\"\n",
    "print(df_people[df_people[\"Name\"].str.endswith(\"e\")][\"Name\"])\n",
    "print(\"#\" * 20)\n",
    "\n",
    "# select last 2 rows with last 2 columns\n",
    "print(df_people.iloc[-2:, -2:])\n",
    "print(\"#\" * 20)\n",
    "\n",
    "# select last 2 rows with last 2 columns using loc\n",
    "print(df_people.loc[df_people.index[-2:], df_people.columns[-2:]])\n",
    "print(\"#\" * 20)\n"
   ]
  },
  {
   "cell_type": "code",
   "execution_count": 50,
   "id": "1d2958cb",
   "metadata": {},
   "outputs": [
    {
     "data": {
      "text/plain": [
       "┌─────────────┬─────────────┬─────────┬─────────┬─────────┬─────────┐\n",
       "│ column_name │ column_type │  null   │   key   │ default │  extra  │\n",
       "│   varchar   │   varchar   │ varchar │ varchar │ varchar │ varchar │\n",
       "├─────────────┼─────────────┼─────────┼─────────┼─────────┼─────────┤\n",
       "│ Name        │ VARCHAR     │ YES     │ NULL    │ NULL    │ NULL    │\n",
       "│ Age         │ BIGINT      │ YES     │ NULL    │ NULL    │ NULL    │\n",
       "│ City        │ VARCHAR     │ YES     │ NULL    │ NULL    │ NULL    │\n",
       "└─────────────┴─────────────┴─────────┴─────────┴─────────┴─────────┘"
      ]
     },
     "execution_count": 50,
     "metadata": {},
     "output_type": "execute_result"
    }
   ],
   "source": [
    "import duckdb\n",
    "\n",
    "#duckdb.sql(\"CREATE TABLE IF NOT EXIST people_table AS SELECT * FROM df_people\")\n",
    "duckdb.sql(\"DESCRIBE TABLE people_table\")"
   ]
  },
  {
   "cell_type": "code",
   "execution_count": 61,
   "id": "1a9e84b1",
   "metadata": {},
   "outputs": [
    {
     "data": {
      "application/vnd.microsoft.datawrangler.viewer.v0+json": {
       "columns": [
        {
         "name": "index",
         "rawType": "int64",
         "type": "integer"
        },
        {
         "name": "Name",
         "rawType": "object",
         "type": "string"
        },
        {
         "name": "Age",
         "rawType": "int64",
         "type": "integer"
        },
        {
         "name": "Salary",
         "rawType": "float64",
         "type": "float"
        }
       ],
       "conversionMethod": "pd.DataFrame",
       "ref": "2d896a54-8d57-4999-9a2b-17cd60c377f9",
       "rows": [
        [
         "0",
         "Allice",
         "25",
         "30000.0"
        ]
       ],
       "shape": {
        "columns": 3,
        "rows": 1
       }
      },
      "text/html": [
       "<div>\n",
       "<style scoped>\n",
       "    .dataframe tbody tr th:only-of-type {\n",
       "        vertical-align: middle;\n",
       "    }\n",
       "\n",
       "    .dataframe tbody tr th {\n",
       "        vertical-align: top;\n",
       "    }\n",
       "\n",
       "    .dataframe thead th {\n",
       "        text-align: right;\n",
       "    }\n",
       "</style>\n",
       "<table border=\"1\" class=\"dataframe\">\n",
       "  <thead>\n",
       "    <tr style=\"text-align: right;\">\n",
       "      <th></th>\n",
       "      <th>Name</th>\n",
       "      <th>Age</th>\n",
       "      <th>Salary</th>\n",
       "    </tr>\n",
       "  </thead>\n",
       "  <tbody>\n",
       "    <tr>\n",
       "      <th>0</th>\n",
       "      <td>Allice</td>\n",
       "      <td>25</td>\n",
       "      <td>30000.0</td>\n",
       "    </tr>\n",
       "  </tbody>\n",
       "</table>\n",
       "</div>"
      ],
      "text/plain": [
       "     Name  Age   Salary\n",
       "0  Allice   25  30000.0"
      ]
     },
     "execution_count": 61,
     "metadata": {},
     "output_type": "execute_result"
    }
   ],
   "source": [
    "# create new dataframe from df_people2\n",
    "df_people3 = df_people2.copy()\n",
    "\n",
    "# add column hypothetical salary\n",
    "predicate = df_people3[\"Age\"] * 1200 >= df_people3[\"Salary\"]\n",
    "\n",
    "# Select rows where Hypothetical Salary is greater than Salary\n",
    "df_people3[predicate]"
   ]
  }
 ],
 "metadata": {
  "kernelspec": {
   "display_name": ".venv",
   "language": "python",
   "name": "python3"
  },
  "language_info": {
   "codemirror_mode": {
    "name": "ipython",
    "version": 3
   },
   "file_extension": ".py",
   "mimetype": "text/x-python",
   "name": "python",
   "nbconvert_exporter": "python",
   "pygments_lexer": "ipython3",
   "version": "3.12.10"
  }
 },
 "nbformat": 4,
 "nbformat_minor": 5
}
